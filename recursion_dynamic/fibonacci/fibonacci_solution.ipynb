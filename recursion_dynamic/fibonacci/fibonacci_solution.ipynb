{
 "cells": [
  {
   "cell_type": "markdown",
   "metadata": {},
   "source": [
    "This notebook was prepared by [Donne Martin](http://donnemartin.com). Source and license info is on [GitHub](https://github.com/donnemartin/interactive-coding-challenges)."
   ]
  },
  {
   "cell_type": "markdown",
   "metadata": {},
   "source": [
    "# Solution Notebook"
   ]
  },
  {
   "cell_type": "markdown",
   "metadata": {},
   "source": [
    "## Problem: Implement fibonacci recursively, dynamically, and iteratively.\n",
    "\n",
    "* [Constraints](#Constraints)\n",
    "* [Test Cases](#Test-Cases)\n",
    "* [Algorithm](#Algorithm)\n",
    "* [Code](#Code)\n",
    "* [Unit Test](#Unit-Test)"
   ]
  },
  {
   "cell_type": "markdown",
   "metadata": {},
   "source": [
    "## Constraints\n",
    "\n",
    "* Does the sequence start at 0 or 1?\n",
    "    * 0\n",
    "* Can we assume the inputs are valid non-negative ints?\n",
    "    * Yes\n",
    "* Are you looking for a recursive or iterative solution?\n",
    "    * Either\n",
    "* Can we assume this fits memory?\n",
    "    * Yes"
   ]
  },
  {
   "cell_type": "markdown",
   "metadata": {},
   "source": [
    "## Test Cases\n",
    "\n",
    "* n = 0 -> 0\n",
    "* n = 1 -> 1\n",
    "* n = 6 -> 8\n",
    "* Fib sequence: 0, 1, 1, 2, 3, 5, 8, 13, 21, 34..."
   ]
  },
  {
   "cell_type": "markdown",
   "metadata": {},
   "source": [
    "## Algorithm\n",
    "\n",
    "Recursive:\n",
    "* Fibonacci is as follows: 0, 1, 1, 2, 3, 5, 8, 13, 21, 34...\n",
    "* If n = 0 or 1, return n\n",
    "* Else return fib(n-1) + fib(n-2)\n",
    "\n",
    "Complexity:\n",
    "* Time: O(2^n) if recursive or iterative, O(n) if dynamic\n",
    "* Space: O(n) if recursive, O(1) if iterative, O(n) if dynamic"
   ]
  },
  {
   "cell_type": "markdown",
   "metadata": {},
   "source": [
    "## Code"
   ]
  },
  {
   "cell_type": "code",
   "execution_count": 1,
   "metadata": {
    "collapsed": true
   },
   "outputs": [],
   "source": [
    "class Math(object):\n",
    "\n",
    "    def fib_iterative(self, n):\n",
    "        a = 0\n",
    "        b = 1\n",
    "        for _ in range(n):\n",
    "            a, b = b, a + b\n",
    "        return a\n",
    "\n",
    "    def fib_recursive(self, n):\n",
    "        if n == 0 or n == 1:\n",
    "            return n\n",
    "        else:\n",
    "            return self.fib_recursive(n-1) + self.fib_recursive(n-2)\n",
    "\n",
    "    def fib_dynamic(self, n):\n",
    "        cache = {}\n",
    "        return self._fib_dynamic(n, cache)\n",
    "\n",
    "    def _fib_dynamic(self, n, cache):\n",
    "        if n == 0 or n == 1:\n",
    "            return n\n",
    "        if n in cache:\n",
    "            return cache[n]\n",
    "        cache[n] = self._fib_dynamic(n-1, cache) + self._fib_dynamic(n-2, cache)\n",
    "        return cache[n]"
   ]
  },
  {
   "cell_type": "markdown",
   "metadata": {},
   "source": [
    "## Unit Test\n",
    "\n"
   ]
  },
  {
   "cell_type": "code",
   "execution_count": 2,
   "metadata": {},
   "outputs": [
    {
     "name": "stdout",
     "output_type": "stream",
     "text": [
      "Overwriting test_fibonacci.py\n"
     ]
    }
   ],
   "source": [
    "%%writefile test_fibonacci.py\n",
    "from nose.tools import assert_equal\n",
    "\n",
    "\n",
    "class TestFib(object):\n",
    "\n",
    "    def test_fib(self, func):\n",
    "        result = []\n",
    "        expected = [0, 1, 1, 2, 3, 5, 8, 13, 21, 34]\n",
    "        for i in range(len(expected)):\n",
    "            result.append(func(i))\n",
    "        assert_equal(result, expected)\n",
    "        print('Success: test_fib')\n",
    "\n",
    "\n",
    "def main():\n",
    "    test = TestFib()\n",
    "    math = Math()\n",
    "    test.test_fib(math.fib_recursive)\n",
    "    test.test_fib(math.fib_dynamic)\n",
    "    test.test_fib(math.fib_iterative)\n",
    "\n",
    "\n",
    "if __name__ == '__main__':\n",
    "    main()"
   ]
  },
  {
   "cell_type": "code",
   "execution_count": 3,
   "metadata": {},
   "outputs": [
    {
     "name": "stdout",
     "output_type": "stream",
     "text": [
      "Success: test_fib\n",
      "Success: test_fib\n",
      "Success: test_fib\n"
     ]
    }
   ],
   "source": [
    "%run -i test_fibonacci.py"
   ]
  },
  {
   "cell_type": "markdown",
   "metadata": {},
   "source": [
    "## NodeJS Code"
   ]
  },
  {
   "cell_type": "code",
   "execution_count": 1,
   "metadata": {},
   "outputs": [
    {
     "name": "stdout",
     "output_type": "stream",
     "text": [
      "Test: iterative\n",
      "Success: testfibiterative\n",
      "Test: recursive\n",
      "Success: testfibiterative\n",
      "Test: dynamic\n",
      "Success: testfibiterative\n"
     ]
    }
   ],
   "source": [
    "//# %load fibonacci.js\n",
    "const assert = require('assert');\n",
    "\n",
    "class Fib {\n",
    "\n",
    "  * fibIterative(n) {\n",
    "    let a = 0, b = 1;\n",
    "    const infinite = !n && n !== 0;\n",
    "    while (infinite || n--) {\n",
    "      yield a;\n",
    "      [a, b] = [b, a + b];\n",
    "    }\n",
    "  }\n",
    "\n",
    "  fibRecursive(n) {\n",
    "    if (n === 0 || n === 1) {\n",
    "      return n;\n",
    "    } else {\n",
    "      return this.fibRecursive(n-1) + this.fibRecursive(n-2);\n",
    "    }\n",
    "  }\n",
    "\n",
    "  fibDynamic(n) {\n",
    "    const cache = {};\n",
    "    return this._fibDynamic(n, cache);\n",
    "  }\n",
    "\n",
    "  _fibDynamic(n, cache) {\n",
    "    if (n === 0 || n === 1) {\n",
    "      return n;\n",
    "    }\n",
    "    if (n in cache) {\n",
    "      return cache[n];\n",
    "    }\n",
    "    cache[n] = this._fibDynamic(n-1, cache) + this._fibDynamic(n-2, cache);\n",
    "    return cache[n];\n",
    "  }\n",
    "}\n",
    "\n",
    "class TestFib {\n",
    "\n",
    "  testFibIterative() {\n",
    "    const fib = new Fib();\n",
    "    const expected = [0, 1, 1, 2, 3, 5, 8, 13, 21, 34];\n",
    "    console.log('Test: iterative');\n",
    "    assert.deepEqual([...fib.fibIterative(10)], expected);\n",
    "    console.log('Success: testfibiterative');\n",
    "  }\n",
    "\n",
    "  testFibRecursive() {\n",
    "    const fib = new Fib();\n",
    "    const expected = [0, 1, 1, 2, 3, 5, 8, 13, 21, 34];\n",
    "    const result = [];\n",
    "    console.log('Test: recursive');\n",
    "    [...Array(10).keys()].forEach(i => result.push(fib.fibRecursive(i)));\n",
    "    assert.deepEqual(result, expected);\n",
    "    console.log('Success: testfibiterative');\n",
    "  }\n",
    "\n",
    "  testFibDynamic() {\n",
    "    const fib = new Fib();\n",
    "    const expected = [0, 1, 1, 2, 3, 5, 8, 13, 21, 34];\n",
    "    const result = [];\n",
    "    console.log('Test: dynamic');\n",
    "    [...Array(10).keys()].forEach(i => result.push(fib.fibDynamic(i)));\n",
    "    assert.deepEqual(result, expected);\n",
    "    console.log('Success: testfibiterative');\n",
    "  }\n",
    "}\n",
    "\n",
    "function main() {\n",
    "  const test = new TestFib();\n",
    "  test.testFibIterative();\n",
    "  test.testFibRecursive();\n",
    "  test.testFibDynamic();\n",
    "}\n",
    "main();\n"
   ]
  },
  {
   "cell_type": "code",
   "execution_count": null,
   "metadata": {},
   "outputs": [],
   "source": []
  }
 ],
 "metadata": {
  "kernelspec": {
   "display_name": "Javascript (Node.js)",
   "language": "javascript",
   "name": "javascript"
  },
  "language_info": {
   "file_extension": ".js",
   "mimetype": "application/javascript",
   "name": "javascript",
   "version": "10.12.0"
  }
 },
 "nbformat": 4,
 "nbformat_minor": 1
}

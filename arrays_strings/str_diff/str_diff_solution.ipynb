{
 "cells": [
  {
   "cell_type": "markdown",
   "metadata": {},
   "source": [
    "This notebook was prepared by [Donne Martin](https://github.com/donnemartin). Source and license info is on [GitHub](https://github.com/donnemartin/interactive-coding-challenges)."
   ]
  },
  {
   "cell_type": "markdown",
   "metadata": {},
   "source": [
    "# Solution Notebook"
   ]
  },
  {
   "cell_type": "markdown",
   "metadata": {},
   "source": [
    "## Problem: Find the single different char between two strings.\n",
    "\n",
    "* [Constraints](#Constraints)\n",
    "* [Test Cases](#Test-Cases)\n",
    "* [Algorithm](#Algorithm)\n",
    "* [Code](#Code)\n",
    "* [Unit Test](#Unit-Test)"
   ]
  },
  {
   "cell_type": "markdown",
   "metadata": {},
   "source": [
    "## Constraints\n",
    "\n",
    "* Can we assume the strings are ASCII?\n",
    "    * Yes\n",
    "* Is case important?\n",
    "    * The strings are lower case\n",
    "* Can we assume the inputs are valid?\n",
    "    * No, check for None\n",
    "* Can we assume this fits memory?\n",
    "    * Yes"
   ]
  },
  {
   "cell_type": "markdown",
   "metadata": {},
   "source": [
    "## Test Cases\n",
    "\n",
    "* None input -> TypeError\n",
    "* 'abcd', 'abcde' -> 'e'\n",
    "* 'aaabbcdd', 'abdbacade' -> 'e'"
   ]
  },
  {
   "cell_type": "markdown",
   "metadata": {},
   "source": [
    "## Algorithm\n",
    "\n",
    "### Dictionary\n",
    "\n",
    "* Keep a dictionary of seen values in s\n",
    "* Loop through t, decrementing the seen values\n",
    "    * If the char is not there or if the decrement results in a negative value, return the char\n",
    "\n",
    "Complexity:\n",
    "* Time: O(m+n), where m and n are the lengths of s, t\n",
    "* Space: O(h), for the dict, where h is the unique chars in s\n",
    "\n",
    "### XOR\n",
    "\n",
    "* XOR the two strings, which will isolate the differing char\n",
    "\n",
    "Complexity:\n",
    "* Time: O(m+n), where m and n are the lengths of s, t\n",
    "* Space: O(1)"
   ]
  },
  {
   "cell_type": "markdown",
   "metadata": {},
   "source": [
    "## Code"
   ]
  },
  {
   "cell_type": "code",
   "execution_count": 3,
   "metadata": {},
   "outputs": [],
   "source": [
    "class Solution(object):\n",
    "\n",
    "    def find_diff(self, str1, str2):\n",
    "        if str1 is None or str2 is None:\n",
    "            raise TypeError('str1 or str2 cannot be None')\n",
    "        seen = {}\n",
    "        for char in str1:\n",
    "            if char in seen:\n",
    "                seen[char] += 1\n",
    "            else:\n",
    "                seen[char] = 1\n",
    "        for char in str2:\n",
    "            try:\n",
    "                seen[char] -= 1\n",
    "            except KeyError:\n",
    "                return char\n",
    "            if seen[char] < 0:\n",
    "                return char\n",
    "        return None\n",
    "\n",
    "    def find_diff_xor(self, str1, str2):\n",
    "        if str1 is None or str2 is None:\n",
    "            raise TypeError('str1 or str2 cannot be None')\n",
    "        result = 0\n",
    "        for char in str1:\n",
    "            result ^= ord(char)\n",
    "        for char in str2:\n",
    "            result ^= ord(char)\n",
    "        return chr(result)"
   ]
  },
  {
   "cell_type": "markdown",
   "metadata": {},
   "source": [
    "## Unit Test"
   ]
  },
  {
   "cell_type": "code",
   "execution_count": 4,
   "metadata": {},
   "outputs": [
    {
     "name": "stdout",
     "output_type": "stream",
     "text": [
      "Overwriting test_str_diff.py\n"
     ]
    }
   ],
   "source": [
    "%%writefile test_str_diff.py\n",
    "from nose.tools import assert_equal, assert_raises\n",
    "\n",
    "\n",
    "class TestFindDiff(object):\n",
    "\n",
    "    def test_find_diff(self):\n",
    "        solution = Solution()\n",
    "        assert_raises(TypeError, solution.find_diff, None)\n",
    "        assert_equal(solution.find_diff('abcd', 'abcde'), 'e')\n",
    "        assert_equal(solution.find_diff('aaabbcdd', 'abdbacade'), 'e')\n",
    "        print('Success: test_find_diff')\n",
    "\n",
    "\n",
    "def main():\n",
    "    test = TestFindDiff()\n",
    "    test.test_find_diff()\n",
    "\n",
    "\n",
    "if __name__ == '__main__':\n",
    "    main()"
   ]
  },
  {
   "cell_type": "code",
   "execution_count": 5,
   "metadata": {
    "scrolled": true
   },
   "outputs": [
    {
     "name": "stdout",
     "output_type": "stream",
     "text": [
      "Success: test_find_diff\n"
     ]
    }
   ],
   "source": [
    "%run -i test_str_diff.py"
   ]
  },
  {
   "cell_type": "markdown",
   "metadata": {},
   "source": [
    "## NodeJS Code"
   ]
  },
  {
   "cell_type": "code",
   "execution_count": 1,
   "metadata": {},
   "outputs": [
    {
     "name": "stdout",
     "output_type": "stream",
     "text": [
      "Success: testFindDiff\n"
     ]
    }
   ],
   "source": [
    "//# %load stringDiff.js\n",
    "const assert = require('assert');\n",
    "\n",
    "class Solution {\n",
    "\n",
    "  findDiff(str1, str2) {\n",
    "    if (typeof str1 !== 'string' || typeof str2 !== 'string') {\n",
    "      throw TypeError('str1 or str2 is not of type string.');\n",
    "    }\n",
    "    const seen = {};\n",
    "    str1.split('').forEach((char) => {\n",
    "      if (seen[char]) {\n",
    "        seen[char] += 1;\n",
    "      } else {\n",
    "        seen[char] = 1;\n",
    "      }\n",
    "    });\n",
    "    const chars = str2.split('');\n",
    "    const len = chars.length;\n",
    "    for (let i = 0; i < len; i++) {\n",
    "      if (seen[chars[i]]) {\n",
    "        seen[chars[i]] -= 1;\n",
    "      } else {\n",
    "        return chars[i];\n",
    "      }\n",
    "      if (seen[chars[i]] < 0) {\n",
    "        return chars[i]\n",
    "      }\n",
    "    }\n",
    "    return null;\n",
    "  }\n",
    "}\n",
    "\n",
    "class TestFindDiff {\n",
    "\n",
    "  testFindDiff() {\n",
    "    const solution = new Solution();\n",
    "    assert.throws(() => solution.findDiff(null, 'foo'), TypeError);\n",
    "    assert.equal(solution.findDiff('abcd', 'abcde'), 'e');\n",
    "    assert.equal(solution.findDiff('aaabbcdd', 'abdbacade'), 'e');\n",
    "    console.log('Success: testFindDiff');\n",
    "  }\n",
    "}\n",
    "\n",
    "function main() {\n",
    "  const test = new TestFindDiff();\n",
    "  test.testFindDiff();\n",
    "}\n",
    "main();\n"
   ]
  },
  {
   "cell_type": "code",
   "execution_count": null,
   "metadata": {
    "collapsed": true
   },
   "outputs": [],
   "source": []
  }
 ],
 "metadata": {
  "kernelspec": {
   "display_name": "Javascript (Node.js)",
   "language": "javascript",
   "name": "javascript"
  },
  "language_info": {
   "file_extension": ".js",
   "mimetype": "application/javascript",
   "name": "javascript",
   "version": "10.12.0"
  }
 },
 "nbformat": 4,
 "nbformat_minor": 1
}

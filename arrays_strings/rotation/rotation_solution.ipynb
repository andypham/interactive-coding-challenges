{
 "cells": [
  {
   "cell_type": "markdown",
   "metadata": {},
   "source": [
    "This notebook was prepared by [Donne Martin](http://donnemartin.com). Source and license info is on [GitHub](https://github.com/donnemartin/interactive-coding-challenges)."
   ]
  },
  {
   "cell_type": "markdown",
   "metadata": {},
   "source": [
    "# Solution Notebook"
   ]
  },
  {
   "cell_type": "markdown",
   "metadata": {},
   "source": [
    "## Problem: Determine if a string s1 is a rotation of another string s2, by calling (only once) a function is_substring.\n",
    "\n",
    "* [Constraints](#Constraints)\n",
    "* [Test Cases](#Test-Cases)\n",
    "* [Algorithm](#Algorithm)\n",
    "* [Code](#Code)\n",
    "* [Unit Test](#Unit-Test)\n",
    "* [Solution Notebook](#Solution-Notebook)"
   ]
  },
  {
   "cell_type": "markdown",
   "metadata": {},
   "source": [
    "## Constraints\n",
    "\n",
    "* Can we assume the string is ASCII?\n",
    "    * Yes\n",
    "    * Note: Unicode strings could require special handling depending on your language\n",
    "* Is this case sensitive?\n",
    "    * Yes\n",
    "* Can we use additional data structures?  \n",
    "    * Yes\n",
    "* Can we assume this fits in memory?\n",
    "    * Yes"
   ]
  },
  {
   "cell_type": "markdown",
   "metadata": {},
   "source": [
    "## Test Cases\n",
    "\n",
    "* Any strings that differ in size -> False\n",
    "* None, 'foo' -> False (any None results in False)\n",
    "* ' ', 'foo' -> False\n",
    "* ' ', ' ' -> True\n",
    "* 'foobarbaz', 'barbazfoo' -> True"
   ]
  },
  {
   "cell_type": "markdown",
   "metadata": {},
   "source": [
    "## Algorithm\n",
    "\n",
    "Examine the following test case:\n",
    "* s1 = 'barbazfoo'\n",
    "* s2 = 'foobarbaz'\n",
    "\n",
    "We see that if we can use the given is_substring method if we take compare s2 with s1 + s1:\n",
    "* s2 = 'foobarbaz'\n",
    "* s3 = 'barbaz*foobarbaz*foo'\n",
    "\n",
    "Complexity:\n",
    "* Time: O(n)\n",
    "* Space: O(n)"
   ]
  },
  {
   "cell_type": "markdown",
   "metadata": {},
   "source": [
    "## Code"
   ]
  },
  {
   "cell_type": "code",
   "execution_count": 1,
   "metadata": {},
   "outputs": [],
   "source": [
    "class Rotation(object):\n",
    "\n",
    "    def is_substring(self, s1, s2):\n",
    "        return s1 in s2\n",
    "\n",
    "    def is_rotation(self, s1, s2):\n",
    "        if s1 is None or s2 is None:\n",
    "            return False\n",
    "        if len(s1) != len(s2):\n",
    "            return False\n",
    "        return self.is_substring(s1, s2 + s2)"
   ]
  },
  {
   "cell_type": "markdown",
   "metadata": {},
   "source": [
    "## Unit Test"
   ]
  },
  {
   "cell_type": "code",
   "execution_count": 2,
   "metadata": {},
   "outputs": [
    {
     "name": "stdout",
     "output_type": "stream",
     "text": [
      "Overwriting test_rotation.py\n"
     ]
    }
   ],
   "source": [
    "%%writefile test_rotation.py\n",
    "from nose.tools import assert_equal\n",
    "\n",
    "\n",
    "class TestRotation(object):\n",
    "\n",
    "    def test_rotation(self):\n",
    "        rotation = Rotation()\n",
    "        assert_equal(rotation.is_rotation('o', 'oo'), False)\n",
    "        assert_equal(rotation.is_rotation(None, 'foo'), False)\n",
    "        assert_equal(rotation.is_rotation('', 'foo'), False)\n",
    "        assert_equal(rotation.is_rotation('', ''), True)\n",
    "        assert_equal(rotation.is_rotation('foobarbaz', 'barbazfoo'), True)\n",
    "        print('Success: test_rotation')\n",
    "\n",
    "\n",
    "def main():\n",
    "    test = TestRotation()\n",
    "    test.test_rotation()\n",
    "\n",
    "\n",
    "if __name__ == '__main__':\n",
    "    main()"
   ]
  },
  {
   "cell_type": "code",
   "execution_count": 3,
   "metadata": {},
   "outputs": [
    {
     "name": "stdout",
     "output_type": "stream",
     "text": [
      "Success: test_rotation\n"
     ]
    }
   ],
   "source": [
    "%run -i test_rotation.py"
   ]
  },
  {
   "cell_type": "markdown",
   "metadata": {},
   "source": [
    "## NodeJS Code"
   ]
  },
  {
   "cell_type": "code",
   "execution_count": 1,
   "metadata": {},
   "outputs": [
    {
     "name": "stdout",
     "output_type": "stream",
     "text": [
      "Success: testRotation\n"
     ]
    }
   ],
   "source": [
    "//# %load rotation.js\n",
    "const assert = require('assert');\n",
    "\n",
    "class Rotation {\n",
    "\n",
    "  isRotation(s1, s2) {\n",
    "    if (typeof s1 !== 'string' || typeof s2 !== 'string') {\n",
    "      return false;\n",
    "    }\n",
    "    if (s1.length !== s2.length) {\n",
    "      return false;\n",
    "    }\n",
    "    return `${s2+s2}`.indexOf(s1) > -1;\n",
    "  }\n",
    "}\n",
    "\n",
    "class TestRotation {\n",
    "\n",
    "  testRotation() {\n",
    "    const rotation = new Rotation();\n",
    "    assert.equal(rotation.isRotation('o', 'oo'), false);\n",
    "    assert.equal(rotation.isRotation(null, 'foo'), false);\n",
    "    assert.equal(rotation.isRotation('', 'foo'), false);\n",
    "    assert.equal(rotation.isRotation('', ''), true);\n",
    "    assert.equal(rotation.isRotation('foobarbaz', 'barbazfoo'), true);\n",
    "    console.log('Success: testRotation');\n",
    "  }\n",
    "}\n",
    "\n",
    "function main() {\n",
    "  const test = new TestRotation();\n",
    "  test.testRotation();\n",
    "}\n",
    "main();\n"
   ]
  },
  {
   "cell_type": "code",
   "execution_count": null,
   "metadata": {
    "collapsed": true
   },
   "outputs": [],
   "source": []
  }
 ],
 "metadata": {
  "kernelspec": {
   "display_name": "Javascript (Node.js)",
   "language": "javascript",
   "name": "javascript"
  },
  "language_info": {
   "file_extension": ".js",
   "mimetype": "application/javascript",
   "name": "javascript",
   "version": "10.12.0"
  }
 },
 "nbformat": 4,
 "nbformat_minor": 1
}
